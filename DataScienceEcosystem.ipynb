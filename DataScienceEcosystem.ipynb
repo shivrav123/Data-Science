{
 "cells": [
  {
   "cell_type": "markdown",
   "id": "c4d0fe18-7b7f-4047-8080-3a012f1fe518",
   "metadata": {},
   "source": [
    "# Data Science Tools and Ecosystem"
   ]
  },
  {
   "cell_type": "markdown",
   "id": "96661ebb-3361-49be-964a-8c04e79d1eb1",
   "metadata": {},
   "source": [
    "In this notebook, Data Science Tools and Ecosystem are summarized."
   ]
  },
  {
   "cell_type": "markdown",
   "id": "59402ac2-b4af-43b5-8af5-79eaa0caa2c3",
   "metadata": {},
   "source": [
    "**OBJECTIVES:**\n",
    "* List of Popular Languages for Data Science\n",
    "* List of Commonly Used Libraries used by Data Scientists\n",
    "* List of Data Science Tools\n",
    "* Few Examples of evaluating arithmetic expressions in Python."
   ]
  },
  {
   "cell_type": "markdown",
   "id": "260f8075-9790-4257-bc5e-dc9b07729036",
   "metadata": {},
   "source": [
    "Some of the popular languages that Data Scientists use are:\n",
    "1. Python\n",
    "2. R\n",
    "3. SQL\n",
    "4. Julia"
   ]
  },
  {
   "cell_type": "markdown",
   "id": "d8195dd8-27cd-437c-8363-392bc090f537",
   "metadata": {},
   "source": [
    "Some of the commonly used libraries used by Data Scientists include:\n",
    "1. Pandas\n",
    "2. Numpy\n",
    "3. scikit-learn\n",
    "4. tensorflow"
   ]
  },
  {
   "cell_type": "markdown",
   "id": "98f7906a-2b4d-41cc-94e5-17cfa4063b96",
   "metadata": {},
   "source": [
    "| Data Science Tools |\n",
    "| -------------- |\n",
    "| 1. Jupiter Notebook |\n",
    "| 2. RStudio |\n",
    "| 3. VS Code |\n"
   ]
  },
  {
   "cell_type": "markdown",
   "id": "659f521c-5aa2-4578-9646-1a72746da2e9",
   "metadata": {},
   "source": [
    "### Below are few examples of evaluating arithmetic expressions in Python"
   ]
  },
  {
   "cell_type": "code",
   "execution_count": 13,
   "id": "7efef7a9-ea04-4c66-a1ab-e93958a44036",
   "metadata": {},
   "outputs": [
    {
     "data": {
      "text/plain": [
       "17"
      ]
     },
     "execution_count": 13,
     "metadata": {},
     "output_type": "execute_result"
    }
   ],
   "source": [
    "## This is a simple arithmetic expression to multiply then add integers.\n",
    "(3*4)+5"
   ]
  },
  {
   "cell_type": "code",
   "execution_count": 15,
   "id": "7527e5b7-dda1-4aa5-a803-84db6abf2fc9",
   "metadata": {},
   "outputs": [
    {
     "data": {
      "text/plain": [
       "3.3333333333333335"
      ]
     },
     "execution_count": 15,
     "metadata": {},
     "output_type": "execute_result"
    }
   ],
   "source": [
    "## This will convert 200 minutes to hours by dividing by 60\n",
    "200/60"
   ]
  },
  {
   "cell_type": "markdown",
   "id": "fb93557f-f42f-438d-a3a0-535763e89342",
   "metadata": {},
   "source": [
    "## Author\n",
    "Shivansh Singh"
   ]
  },
  {
   "cell_type": "code",
   "execution_count": null,
   "id": "f77a2e01-9276-4ebe-94e5-8457b9dddc30",
   "metadata": {},
   "outputs": [],
   "source": []
  }
 ],
 "metadata": {
  "kernelspec": {
   "display_name": "Python [conda env:anaconda3-RP_Env]",
   "language": "python",
   "name": "conda-env-anaconda3-RP_Env-py"
  },
  "language_info": {
   "codemirror_mode": {
    "name": "ipython",
    "version": 3
   },
   "file_extension": ".py",
   "mimetype": "text/x-python",
   "name": "python",
   "nbconvert_exporter": "python",
   "pygments_lexer": "ipython3",
   "version": "3.12.9"
  }
 },
 "nbformat": 4,
 "nbformat_minor": 5
}
